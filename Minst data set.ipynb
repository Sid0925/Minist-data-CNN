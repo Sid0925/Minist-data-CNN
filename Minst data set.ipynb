{
 "cells": [
  {
   "cell_type": "markdown",
   "id": "82ff297e",
   "metadata": {},
   "source": [
    "# Numeric Data recognition using LeNet-5 Architecture"
   ]
  },
  {
   "cell_type": "code",
   "execution_count": 124,
   "id": "fa45a4e5",
   "metadata": {},
   "outputs": [],
   "source": [
    "import numpy as np\n",
    "import pandas as pd\n",
    "import matplotlib.pyplot as plt\n",
    "import seaborn as sns                               \n",
    "from keras.datasets import mnist"
   ]
  },
  {
   "cell_type": "markdown",
   "id": "fa326177",
   "metadata": {},
   "source": [
    "#### Load data from librerey "
   ]
  },
  {
   "cell_type": "code",
   "execution_count": 125,
   "id": "495bd2c3",
   "metadata": {},
   "outputs": [],
   "source": [
    "(x_train, y_train), (x_test, y_test) = mnist.load_data()"
   ]
  },
  {
   "cell_type": "markdown",
   "id": "214758d5",
   "metadata": {},
   "source": [
    "# image and classes"
   ]
  },
  {
   "cell_type": "code",
   "execution_count": 126,
   "id": "6ec0866f",
   "metadata": {},
   "outputs": [
    {
     "data": {
      "text/plain": [
       "(60000, 28, 28)"
      ]
     },
     "execution_count": 126,
     "metadata": {},
     "output_type": "execute_result"
    }
   ],
   "source": [
    "x_train.shape"
   ]
  },
  {
   "cell_type": "code",
   "execution_count": 127,
   "id": "9b744e1e",
   "metadata": {},
   "outputs": [
    {
     "data": {
      "text/plain": [
       "<matplotlib.image.AxesImage at 0x23e667feb50>"
      ]
     },
     "execution_count": 127,
     "metadata": {},
     "output_type": "execute_result"
    },
    {
     "data": {
      "image/png": "[encoded data removed]",
      "text/plain": [
       "<Figure size 432x288 with 1 Axes>"
      ]
     },
     "metadata": {
      "needs_background": "light"
     },
     "output_type": "display_data"
    }
   ],
   "source": [
    "plt.imshow(x_train[7])"
   ]
  },
  {
   "cell_type": "code",
   "execution_count": 128,
   "id": "819996a3",
   "metadata": {},
   "outputs": [
    {
     "data": {
      "text/plain": [
       "3"
      ]
     },
     "execution_count": 128,
     "metadata": {},
     "output_type": "execute_result"
    }
   ],
   "source": [
    "y_train[7]"
   ]
  },
  {
   "cell_type": "markdown",
   "id": "83e148bf",
   "metadata": {},
   "source": [
    "# Data preprocessing"
   ]
  },
  {
   "cell_type": "code",
   "execution_count": null,
   "id": "2fe060bb",
   "metadata": {},
   "outputs": [],
   "source": [
    "from tensorflow.keras.utils import to_categorical"
   ]
  },
  {
   "cell_type": "code",
   "execution_count": 130,
   "id": "90430f20",
   "metadata": {},
   "outputs": [
    {
     "data": {
      "text/plain": [
       "array([5, 0, 4, ..., 5, 6, 8], dtype=uint8)"
      ]
     },
     "execution_count": 130,
     "metadata": {},
     "output_type": "execute_result"
    }
   ],
   "source": [
    "y_train"
   ]
  },
  {
   "cell_type": "code",
   "execution_count": 133,
   "id": "452da013",
   "metadata": {},
   "outputs": [
    {
     "data": {
      "text/plain": [
       "array([7, 2, 1, ..., 4, 5, 6], dtype=uint8)"
      ]
     },
     "execution_count": 133,
     "metadata": {},
     "output_type": "execute_result"
    }
   ],
   "source": [
    "y_test"
   ]
  },
  {
   "cell_type": "code",
   "execution_count": 134,
   "id": "03b80cc3",
   "metadata": {},
   "outputs": [],
   "source": [
    "x_train = x_train/255\n",
    "\n",
    "x_test = x_test/255"
   ]
  },
  {
   "cell_type": "code",
   "execution_count": 135,
   "id": "77b32475",
   "metadata": {},
   "outputs": [],
   "source": [
    "y_cat_train = to_categorical(y_train)\n",
    "\n",
    "y_cat_test = to_categorical(y_test)"
   ]
  },
  {
   "cell_type": "code",
   "execution_count": 136,
   "id": "38e0c449",
   "metadata": {},
   "outputs": [],
   "source": [
    "from tensorflow.keras.models import Sequential\n",
    "from tensorflow.keras.layers import Dense,Conv2D,Dropout,MaxPool2D,Flatten,MaxPooling2D"
   ]
  },
  {
   "cell_type": "code",
   "execution_count": 137,
   "id": "11f13e4d",
   "metadata": {},
   "outputs": [
    {
     "data": {
      "text/plain": [
       "(60000, 10)"
      ]
     },
     "execution_count": 137,
     "metadata": {},
     "output_type": "execute_result"
    }
   ],
   "source": [
    "y_cat_train.shape"
   ]
  },
  {
   "cell_type": "code",
   "execution_count": 138,
   "id": "60a72924",
   "metadata": {},
   "outputs": [
    {
     "data": {
      "text/plain": [
       "(10000, 28, 28)"
      ]
     },
     "execution_count": 138,
     "metadata": {},
     "output_type": "execute_result"
    }
   ],
   "source": [
    "x_test.shape"
   ]
  },
  {
   "cell_type": "code",
   "execution_count": 139,
   "id": "91dd5adc",
   "metadata": {},
   "outputs": [],
   "source": [
    "x_train = x_train.reshape(60000, 28, 28,1)"
   ]
  },
  {
   "cell_type": "code",
   "execution_count": 140,
   "id": "b4ee71b6",
   "metadata": {},
   "outputs": [],
   "source": [
    "x_test = x_test.reshape(10000, 28, 28,1)"
   ]
  },
  {
   "cell_type": "code",
   "execution_count": 141,
   "id": "ff4d05cd",
   "metadata": {},
   "outputs": [
    {
     "data": {
      "text/plain": [
       "(60000, 28, 28, 1)"
      ]
     },
     "execution_count": 141,
     "metadata": {},
     "output_type": "execute_result"
    }
   ],
   "source": [
    "x_train.shape"
   ]
  },
  {
   "cell_type": "code",
   "execution_count": 142,
   "id": "5f773634",
   "metadata": {},
   "outputs": [
    {
     "data": {
      "text/plain": [
       "(10000, 28, 28, 1)"
      ]
     },
     "execution_count": 142,
     "metadata": {},
     "output_type": "execute_result"
    }
   ],
   "source": [
    "x_test.shape"
   ]
  },
  {
   "cell_type": "code",
   "execution_count": 242,
   "id": "7a8f1abb",
   "metadata": {},
   "outputs": [],
   "source": [
    "import tensorflow as tf\n",
    "from tensorflow.keras import regularizers"
   ]
  },
  {
   "cell_type": "code",
   "execution_count": 143,
   "id": "2a449ac6",
   "metadata": {},
   "outputs": [],
   "source": [
    "input_shape = x_train.shape[1:]"
   ]
  },
  {
   "cell_type": "code",
   "execution_count": 144,
   "id": "25255eaa",
   "metadata": {},
   "outputs": [
    {
     "data": {
      "text/plain": [
       "(28, 28, 1)"
      ]
     },
     "execution_count": 144,
     "metadata": {},
     "output_type": "execute_result"
    }
   ],
   "source": [
    "input_shape "
   ]
  },
  {
   "cell_type": "markdown",
   "id": "c0a3db1e",
   "metadata": {},
   "source": [
    "# Model training"
   ]
  },
  {
   "cell_type": "code",
   "execution_count": 288,
   "id": "deaaf16c",
   "metadata": {},
   "outputs": [],
   "source": [
    "model = Sequential()\n",
    "model.add(Conv2D(filters=35,kernel_size=(4,4),input_shape=input_shape,activation='relu'))\n",
    "model.add(MaxPool2D(pool_size=(2, 2)))\n",
    "\n",
    "model.add(Conv2D(filters=68,kernel_size=(4,4),input_shape=input_shape,activation='relu'))\n",
    "model.add(MaxPool2D(pool_size=(2, 2)))\n",
    "\n",
    "model.add(Flatten())\n",
    "\n",
    "\n",
    "model.add(Dense(500,activation='relu',kernel_regularizer=  tf.keras.regularizers.L2(0.1)))\n",
    "model.add(Dense(10,activation='softmax'))\n",
    "\n",
    "model.compile(loss='categorical_crossentropy',optimizer='adam',metrics=['accuracy'])"
   ]
  },
  {
   "cell_type": "code",
   "execution_count": 289,
   "id": "50e43735",
   "metadata": {},
   "outputs": [],
   "source": [
    "from tensorflow.keras.callbacks import EarlyStopping"
   ]
  },
  {
   "cell_type": "code",
   "execution_count": 290,
   "id": "89dfaafb",
   "metadata": {},
   "outputs": [],
   "source": [
    "stop = EarlyStopping(patience=4)"
   ]
  },
  {
   "cell_type": "code",
   "execution_count": 291,
   "id": "226f04f0",
   "metadata": {},
   "outputs": [
    {
     "name": "stdout",
     "output_type": "stream",
     "text": [
      "Epoch 1/15\n",
      "1875/1875 [==============================] - 37s 19ms/step - loss: 2.2633 - accuracy: 0.4428 - val_loss: 0.7258 - val_accuracy: 0.8262\n",
      "Epoch 2/15\n",
      "1875/1875 [==============================] - 35s 19ms/step - loss: 0.5594 - accuracy: 0.8846 - val_loss: 0.4340 - val_accuracy: 0.9151\n",
      "Epoch 3/15\n",
      "1875/1875 [==============================] - 38s 20ms/step - loss: 0.4273 - accuracy: 0.9143 - val_loss: 0.3475 - val_accuracy: 0.9397\n",
      "Epoch 4/15\n",
      "1875/1875 [==============================] - 34s 18ms/step - loss: 0.3657 - accuracy: 0.9281 - val_loss: 0.3142 - val_accuracy: 0.9411\n",
      "Epoch 5/15\n",
      "1875/1875 [==============================] - 34s 18ms/step - loss: 0.3260 - accuracy: 0.9355 - val_loss: 0.2910 - val_accuracy: 0.9423\n",
      "Epoch 6/15\n",
      "1875/1875 [==============================] - 34s 18ms/step - loss: 0.3008 - accuracy: 0.9414 - val_loss: 0.2954 - val_accuracy: 0.9417\n",
      "Epoch 7/15\n",
      "1875/1875 [==============================] - 36s 19ms/step - loss: 0.2865 - accuracy: 0.9449 - val_loss: 0.2710 - val_accuracy: 0.9455\n",
      "Epoch 8/15\n",
      "1875/1875 [==============================] - 33s 17ms/step - loss: 0.2697 - accuracy: 0.9473 - val_loss: 0.2507 - val_accuracy: 0.9524\n",
      "Epoch 9/15\n",
      "1875/1875 [==============================] - 33s 18ms/step - loss: 0.2587 - accuracy: 0.9497 - val_loss: 0.2631 - val_accuracy: 0.9474\n",
      "Epoch 10/15\n",
      "1875/1875 [==============================] - 34s 18ms/step - loss: 0.2461 - accuracy: 0.9525 - val_loss: 0.2412 - val_accuracy: 0.9525\n",
      "Epoch 11/15\n",
      "1875/1875 [==============================] - 34s 18ms/step - loss: 0.2410 - accuracy: 0.9532 - val_loss: 0.2051 - val_accuracy: 0.9622\n",
      "Epoch 12/15\n",
      "1875/1875 [==============================] - 34s 18ms/step - loss: 0.2273 - accuracy: 0.9551 - val_loss: 0.1969 - val_accuracy: 0.9626\n",
      "Epoch 13/15\n",
      "1875/1875 [==============================] - 34s 18ms/step - loss: 0.2206 - accuracy: 0.9567 - val_loss: 0.2027 - val_accuracy: 0.9621\n",
      "Epoch 14/15\n",
      "1875/1875 [==============================] - 34s 18ms/step - loss: 0.2207 - accuracy: 0.9571 - val_loss: 0.1882 - val_accuracy: 0.9642\n",
      "Epoch 15/15\n",
      "1875/1875 [==============================] - 34s 18ms/step - loss: 0.2172 - accuracy: 0.9560 - val_loss: 0.2149 - val_accuracy: 0.9607\n"
     ]
    },
    {
     "data": {
      "text/plain": [
       "<keras.callbacks.History at 0x23edc2449d0>"
      ]
     },
     "execution_count": 291,
     "metadata": {},
     "output_type": "execute_result"
    }
   ],
   "source": [
    "model.fit(x_train,y_cat_train,validation_data=(x_test,y_cat_test),epochs=15,callbacks=stop)"
   ]
  },
  {
   "cell_type": "code",
   "execution_count": 292,
   "id": "239f00c5",
   "metadata": {},
   "outputs": [],
   "source": [
    "loss = pd.DataFrame(model.history.history)"
   ]
  },
  {
   "cell_type": "code",
   "execution_count": 293,
   "id": "5cb3eace",
   "metadata": {},
   "outputs": [
    {
     "data": {
      "text/html": [
       "<div>\n",
       "<style scoped>\n",
       "    .dataframe tbody tr th:only-of-type {\n",
       "        vertical-align: middle;\n",
       "    }\n",
       "\n",
       "    .dataframe tbody tr th {\n",
       "        vertical-align: top;\n",
       "    }\n",
       "\n",
       "    .dataframe thead th {\n",
       "        text-align: right;\n",
       "    }\n",
       "</style>\n",
       "<table border=\"1\" class=\"dataframe\">\n",
       "  <thead>\n",
       "    <tr style=\"text-align: right;\">\n",
       "      <th></th>\n",
       "      <th>loss</th>\n",
       "      <th>accuracy</th>\n",
       "      <th>val_loss</th>\n",
       "      <th>val_accuracy</th>\n",
       "    </tr>\n",
       "  </thead>\n",
       "  <tbody>\n",
       "    <tr>\n",
       "      <th>0</th>\n",
       "      <td>2.263328</td>\n",
       "      <td>0.442783</td>\n",
       "      <td>0.725789</td>\n",
       "      <td>0.8262</td>\n",
       "    </tr>\n",
       "    <tr>\n",
       "      <th>1</th>\n",
       "      <td>0.559450</td>\n",
       "      <td>0.884650</td>\n",
       "      <td>0.434001</td>\n",
       "      <td>0.9151</td>\n",
       "    </tr>\n",
       "    <tr>\n",
       "      <th>2</th>\n",
       "      <td>0.427294</td>\n",
       "      <td>0.914317</td>\n",
       "      <td>0.347493</td>\n",
       "      <td>0.9397</td>\n",
       "    </tr>\n",
       "    <tr>\n",
       "      <th>3</th>\n",
       "      <td>0.365729</td>\n",
       "      <td>0.928067</td>\n",
       "      <td>0.314246</td>\n",
       "      <td>0.9411</td>\n",
       "    </tr>\n",
       "    <tr>\n",
       "      <th>4</th>\n",
       "      <td>0.326034</td>\n",
       "      <td>0.935483</td>\n",
       "      <td>0.291035</td>\n",
       "      <td>0.9423</td>\n",
       "    </tr>\n",
       "    <tr>\n",
       "      <th>5</th>\n",
       "      <td>0.300791</td>\n",
       "      <td>0.941383</td>\n",
       "      <td>0.295375</td>\n",
       "      <td>0.9417</td>\n",
       "    </tr>\n",
       "    <tr>\n",
       "      <th>6</th>\n",
       "      <td>0.286510</td>\n",
       "      <td>0.944883</td>\n",
       "      <td>0.271002</td>\n",
       "      <td>0.9455</td>\n",
       "    </tr>\n",
       "    <tr>\n",
       "      <th>7</th>\n",
       "      <td>0.269724</td>\n",
       "      <td>0.947267</td>\n",
       "      <td>0.250654</td>\n",
       "      <td>0.9524</td>\n",
       "    </tr>\n",
       "    <tr>\n",
       "      <th>8</th>\n",
       "      <td>0.258713</td>\n",
       "      <td>0.949733</td>\n",
       "      <td>0.263114</td>\n",
       "      <td>0.9474</td>\n",
       "    </tr>\n",
       "    <tr>\n",
       "      <th>9</th>\n",
       "      <td>0.246123</td>\n",
       "      <td>0.952467</td>\n",
       "      <td>0.241155</td>\n",
       "      <td>0.9525</td>\n",
       "    </tr>\n",
       "    <tr>\n",
       "      <th>10</th>\n",
       "      <td>0.240997</td>\n",
       "      <td>0.953233</td>\n",
       "      <td>0.205131</td>\n",
       "      <td>0.9622</td>\n",
       "    </tr>\n",
       "    <tr>\n",
       "      <th>11</th>\n",
       "      <td>0.227282</td>\n",
       "      <td>0.955083</td>\n",
       "      <td>0.196876</td>\n",
       "      <td>0.9626</td>\n",
       "    </tr>\n",
       "    <tr>\n",
       "      <th>12</th>\n",
       "      <td>0.220599</td>\n",
       "      <td>0.956683</td>\n",
       "      <td>0.202663</td>\n",
       "      <td>0.9621</td>\n",
       "    </tr>\n",
       "    <tr>\n",
       "      <th>13</th>\n",
       "      <td>0.220659</td>\n",
       "      <td>0.957150</td>\n",
       "      <td>0.188178</td>\n",
       "      <td>0.9642</td>\n",
       "    </tr>\n",
       "    <tr>\n",
       "      <th>14</th>\n",
       "      <td>0.217246</td>\n",
       "      <td>0.955950</td>\n",
       "      <td>0.214936</td>\n",
       "      <td>0.9607</td>\n",
       "    </tr>\n",
       "  </tbody>\n",
       "</table>\n",
       "</div>"
      ],
      "text/plain": [
       "        loss  accuracy  val_loss  val_accuracy\n",
       "0   2.263328  0.442783  0.725789        0.8262\n",
       "1   0.559450  0.884650  0.434001        0.9151\n",
       "2   0.427294  0.914317  0.347493        0.9397\n",
       "3   0.365729  0.928067  0.314246        0.9411\n",
       "4   0.326034  0.935483  0.291035        0.9423\n",
       "5   0.300791  0.941383  0.295375        0.9417\n",
       "6   0.286510  0.944883  0.271002        0.9455\n",
       "7   0.269724  0.947267  0.250654        0.9524\n",
       "8   0.258713  0.949733  0.263114        0.9474\n",
       "9   0.246123  0.952467  0.241155        0.9525\n",
       "10  0.240997  0.953233  0.205131        0.9622\n",
       "11  0.227282  0.955083  0.196876        0.9626\n",
       "12  0.220599  0.956683  0.202663        0.9621\n",
       "13  0.220659  0.957150  0.188178        0.9642\n",
       "14  0.217246  0.955950  0.214936        0.9607"
      ]
     },
     "execution_count": 293,
     "metadata": {},
     "output_type": "execute_result"
    }
   ],
   "source": [
    "loss"
   ]
  },
  {
   "cell_type": "code",
   "execution_count": 294,
   "id": "4b341f55",
   "metadata": {},
   "outputs": [
    {
     "data": {
      "text/plain": [
       "<AxesSubplot:>"
      ]
     },
     "execution_count": 294,
     "metadata": {},
     "output_type": "execute_result"
    },
    {
     "data": {
      "image/png": "[encoded data removed]",
      "text/plain": [
       "<Figure size 432x288 with 1 Axes>"
      ]
     },
     "metadata": {
      "needs_background": "light"
     },
     "output_type": "display_data"
    }
   ],
   "source": [
    "loss[['accuracy','val_accuracy']].plot()"
   ]
  },
  {
   "cell_type": "code",
   "execution_count": 295,
   "id": "7b916c9b",
   "metadata": {},
   "outputs": [
    {
     "data": {
      "text/plain": [
       "<AxesSubplot:>"
      ]
     },
     "execution_count": 295,
     "metadata": {},
     "output_type": "execute_result"
    },
    {
     "data": {
      "image/png": "[encoded data removed]",
      "text/plain": [
       "<Figure size 432x288 with 1 Axes>"
      ]
     },
     "metadata": {
      "needs_background": "light"
     },
     "output_type": "display_data"
    }
   ],
   "source": [
    "loss[['loss','val_loss']].plot()"
   ]
  },
  {
   "cell_type": "code",
   "execution_count": 296,
   "id": "82302e84",
   "metadata": {},
   "outputs": [
    {
     "name": "stdout",
     "output_type": "stream",
     "text": [
      "313/313 [==============================] - 2s 6ms/step\n"
     ]
    }
   ],
   "source": [
    "pred = model.predict(x_test)"
   ]
  },
  {
   "cell_type": "code",
   "execution_count": 260,
   "id": "c5e6d3d4",
   "metadata": {},
   "outputs": [],
   "source": [
    "from sklearn.metrics import accuracy_score,confusion_matrix,classification_report"
   ]
  },
  {
   "cell_type": "markdown",
   "id": "a1c075db",
   "metadata": {},
   "source": [
    "# Single image recognition"
   ]
  },
  {
   "cell_type": "code",
   "execution_count": 315,
   "id": "2d92ab85",
   "metadata": {},
   "outputs": [
    {
     "data": {
      "text/plain": [
       "<matplotlib.image.AxesImage at 0x23ee9c487c0>"
      ]
     },
     "execution_count": 315,
     "metadata": {},
     "output_type": "execute_result"
    },
    {
     "data": {
      "image/png": "[encoded data removed]",
      "text/plain": [
       "<Figure size 432x288 with 1 Axes>"
      ]
     },
     "metadata": {
      "needs_background": "light"
     },
     "output_type": "display_data"
    }
   ],
   "source": [
    "plt.imshow(x_test[1])"
   ]
  },
  {
   "cell_type": "code",
   "execution_count": 316,
   "id": "af41cb77",
   "metadata": {},
   "outputs": [
    {
     "data": {
      "text/plain": [
       "2"
      ]
     },
     "execution_count": 316,
     "metadata": {},
     "output_type": "execute_result"
    }
   ],
   "source": [
    "np.argmax(pred[1])"
   ]
  },
  {
   "cell_type": "code",
   "execution_count": 317,
   "id": "65c2bb7d",
   "metadata": {},
   "outputs": [
    {
     "data": {
      "text/plain": [
       "2"
      ]
     },
     "execution_count": 317,
     "metadata": {},
     "output_type": "execute_result"
    }
   ],
   "source": [
    "y_test[1]"
   ]
  },
  {
   "cell_type": "markdown",
   "id": "54dfffe1",
   "metadata": {},
   "source": [
    "##### using np.argmax making all prediction probablity into single value which is maximum"
   ]
  },
  {
   "cell_type": "code",
   "execution_count": 301,
   "id": "24951542",
   "metadata": {},
   "outputs": [],
   "source": [
    "prediction = []\n",
    "for i in pred:\n",
    "    prediction.append(np.argmax(i))"
   ]
  },
  {
   "cell_type": "code",
   "execution_count": 303,
   "id": "0c8a7622",
   "metadata": {},
   "outputs": [
    {
     "data": {
      "text/plain": [
       "array([7, 2, 1, ..., 4, 5, 6], dtype=uint8)"
      ]
     },
     "execution_count": 303,
     "metadata": {},
     "output_type": "execute_result"
    }
   ],
   "source": [
    "y_test"
   ]
  },
  {
   "cell_type": "markdown",
   "id": "a1bfa6aa",
   "metadata": {},
   "source": [
    "# Model Evaluating"
   ]
  },
  {
   "cell_type": "code",
   "execution_count": 304,
   "id": "712f8ed2",
   "metadata": {},
   "outputs": [
    {
     "data": {
      "text/plain": [
       "array([[ 968,    0,    5,    0,    0,    0,    4,    1,    2,    0],\n",
       "       [   0, 1121,    1,    6,    0,    1,    4,    2,    0,    0],\n",
       "       [   2,    1, 1012,    7,    0,    1,    1,    7,    1,    0],\n",
       "       [   0,    0,   12,  979,    0,   10,    0,    6,    3,    0],\n",
       "       [   1,    3,    9,    4,  922,    2,    5,   11,    2,   23],\n",
       "       [   3,    0,    1,   14,    0,  866,    8,    0,    0,    0],\n",
       "       [   4,    4,    3,    0,    7,    3,  931,    0,    6,    0],\n",
       "       [   2,    2,   29,   15,    0,    0,    0,  979,    0,    1],\n",
       "       [   7,    0,   15,   14,    2,    9,   11,    7,  906,    3],\n",
       "       [   7,    6,    1,   20,    3,   10,    0,   34,    5,  923]],\n",
       "      dtype=int64)"
      ]
     },
     "execution_count": 304,
     "metadata": {},
     "output_type": "execute_result"
    }
   ],
   "source": [
    "confusion_matrix(y_test,prediction) "
   ]
  },
  {
   "cell_type": "code",
   "execution_count": 306,
   "id": "10dc9750",
   "metadata": {},
   "outputs": [
    {
     "data": {
      "text/plain": [
       "<AxesSubplot:>"
      ]
     },
     "execution_count": 306,
     "metadata": {},
     "output_type": "execute_result"
    },
    {
     "data": {
      "image/png": "[encoded data removed]",
      "text/plain": [
       "<Figure size 432x288 with 2 Axes>"
      ]
     },
     "metadata": {
      "needs_background": "light"
     },
     "output_type": "display_data"
    }
   ],
   "source": [
    "sns.heatmap(confusion_matrix(y_test,prediction) )"
   ]
  },
  {
   "cell_type": "code",
   "execution_count": 318,
   "id": "8e837186",
   "metadata": {},
   "outputs": [
    {
     "name": "stdout",
     "output_type": "stream",
     "text": [
      "              precision    recall  f1-score   support\n",
      "\n",
      "           0       0.97      0.99      0.98       980\n",
      "           1       0.99      0.99      0.99      1135\n",
      "           2       0.93      0.98      0.95      1032\n",
      "           3       0.92      0.97      0.95      1010\n",
      "           4       0.99      0.94      0.96       982\n",
      "           5       0.96      0.97      0.97       892\n",
      "           6       0.97      0.97      0.97       958\n",
      "           7       0.94      0.95      0.94      1028\n",
      "           8       0.98      0.93      0.95       974\n",
      "           9       0.97      0.91      0.94      1009\n",
      "\n",
      "    accuracy                           0.96     10000\n",
      "   macro avg       0.96      0.96      0.96     10000\n",
      "weighted avg       0.96      0.96      0.96     10000\n",
      "\n"
     ]
    }
   ],
   "source": [
    "print(classification_report(y_test,prediction))"
   ]
  },
  {
   "cell_type": "code",
   "execution_count": 321,
   "id": "9a8a10f2",
   "metadata": {},
   "outputs": [
    {
     "name": "stdout",
     "output_type": "stream",
     "text": [
      "The accuracy is: 96.07\n"
     ]
    }
   ],
   "source": [
    "print('The accuracy is:',accuracy_score(y_test,prediction)*100)"
   ]
  },
  {
   "cell_type": "code",
   "execution_count": null,
   "id": "9d197551",
   "metadata": {},
   "outputs": [],
   "source": []
  },
  {
   "cell_type": "markdown",
   "id": "a7ba4f97",
   "metadata": {},
   "source": [
    "# Any random image from testing data set"
   ]
  },
  {
   "cell_type": "code",
   "execution_count": 330,
   "id": "45b28bd4",
   "metadata": {},
   "outputs": [],
   "source": [
    "my_num = x_test[508]"
   ]
  },
  {
   "cell_type": "code",
   "execution_count": 331,
   "id": "4235668f",
   "metadata": {},
   "outputs": [
    {
     "data": {
      "text/plain": [
       "<matplotlib.image.AxesImage at 0x23ee9d756d0>"
      ]
     },
     "execution_count": 331,
     "metadata": {},
     "output_type": "execute_result"
    },
    {
     "data": {
      "image/png": "[encoded data removed]",
      "text/plain": [
       "<Figure size 432x288 with 1 Axes>"
      ]
     },
     "metadata": {
      "needs_background": "light"
     },
     "output_type": "display_data"
    }
   ],
   "source": [
    "plt.imshow(my_num)"
   ]
  },
  {
   "cell_type": "markdown",
   "id": "27ea873f",
   "metadata": {},
   "source": [
    "#### changing shape which is required for model\n",
    "\n",
    "which is (1,28,28,1)\n"
   ]
  },
  {
   "cell_type": "code",
   "execution_count": 332,
   "id": "62fd6a26",
   "metadata": {},
   "outputs": [
    {
     "name": "stdout",
     "output_type": "stream",
     "text": [
      "1/1 [==============================] - 0s 20ms/step\n"
     ]
    },
    {
     "data": {
      "text/plain": [
       "6"
      ]
     },
     "execution_count": 332,
     "metadata": {},
     "output_type": "execute_result"
    }
   ],
   "source": [
    "np.argmax(model.predict(my_num.reshape(1,28,28,1)))"
   ]
  },
  {
   "cell_type": "code",
   "execution_count": 333,
   "id": "81d75ff0",
   "metadata": {},
   "outputs": [
    {
     "name": "stdout",
     "output_type": "stream",
     "text": [
      "Model: \"sequential_20\"\n",
      "_________________________________________________________________\n",
      " Layer (type)                Output Shape              Param #   \n",
      "=================================================================\n",
      " conv2d_20 (Conv2D)          (None, 25, 25, 35)        595       \n",
      "                                                                 \n",
      " max_pooling2d_16 (MaxPoolin  (None, 12, 12, 35)       0         \n",
      " g2D)                                                            \n",
      "                                                                 \n",
      " conv2d_21 (Conv2D)          (None, 9, 9, 68)          38148     \n",
      "                                                                 \n",
      " max_pooling2d_17 (MaxPoolin  (None, 4, 4, 68)         0         \n",
      " g2D)                                                            \n",
      "                                                                 \n",
      " flatten_10 (Flatten)        (None, 1088)              0         \n",
      "                                                                 \n",
      " dense_15 (Dense)            (None, 500)               544500    \n",
      "                                                                 \n",
      " dense_16 (Dense)            (None, 10)                5010      \n",
      "                                                                 \n",
      "=================================================================\n",
      "Total params: 588,253\n",
      "Trainable params: 588,253\n",
      "Non-trainable params: 0\n",
      "_________________________________________________________________\n"
     ]
    }
   ],
   "source": [
    "model.summary()"
   ]
  },
  {
   "cell_type": "markdown",
   "id": "7d0cb2b9",
   "metadata": {},
   "source": [
    "# Thank you"
   ]
  }
 ],
 "metadata": {
  "kernelspec": {
   "display_name": "Python 3 (ipykernel)",
   "language": "python",
   "name": "python3"
  },
  "language_info": {
   "codemirror_mode": {
    "name": "ipython",
    "version": 3
   },
   "file_extension": ".py",
   "mimetype": "text/x-python",
   "name": "python",
   "nbconvert_exporter": "python",
   "pygments_lexer": "ipython3",
   "version": "3.9.12"
  }
 },
 "nbformat": 4,
 "nbformat_minor": 5
}
